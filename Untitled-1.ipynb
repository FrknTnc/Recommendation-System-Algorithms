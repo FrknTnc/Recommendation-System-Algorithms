{
 "cells": [
  {
   "cell_type": "code",
   "execution_count": 15,
   "metadata": {},
   "outputs": [],
   "source": [
    "import pandas as pd"
   ]
  },
  {
   "cell_type": "code",
   "execution_count": 16,
   "metadata": {},
   "outputs": [],
   "source": [
    "books2 = pd.read_csv('books2.csv')"
   ]
  },
  {
   "cell_type": "code",
   "execution_count": 17,
   "metadata": {},
   "outputs": [],
   "source": [
    "user_rating = books2.pivot_table(index=['userID'], columns=['title'], values='rating')"
   ]
  },
  {
   "cell_type": "code",
   "execution_count": 18,
   "metadata": {},
   "outputs": [
    {
     "data": {
      "text/html": [
       "<div>\n",
       "<style scoped>\n",
       "    .dataframe tbody tr th:only-of-type {\n",
       "        vertical-align: middle;\n",
       "    }\n",
       "\n",
       "    .dataframe tbody tr th {\n",
       "        vertical-align: top;\n",
       "    }\n",
       "\n",
       "    .dataframe thead th {\n",
       "        text-align: right;\n",
       "    }\n",
       "</style>\n",
       "<table border=\"1\" class=\"dataframe\">\n",
       "  <thead>\n",
       "    <tr style=\"text-align: right;\">\n",
       "      <th>title</th>\n",
       "      <th>dönüşüm</th>\n",
       "      <th>küçük prens</th>\n",
       "      <th>satranç</th>\n",
       "      <th>suç ve ceza</th>\n",
       "    </tr>\n",
       "    <tr>\n",
       "      <th>userID</th>\n",
       "      <th></th>\n",
       "      <th></th>\n",
       "      <th></th>\n",
       "      <th></th>\n",
       "    </tr>\n",
       "  </thead>\n",
       "  <tbody>\n",
       "    <tr>\n",
       "      <th>1</th>\n",
       "      <td>1.0</td>\n",
       "      <td>1.0</td>\n",
       "      <td>2.0</td>\n",
       "      <td>5.0</td>\n",
       "    </tr>\n",
       "    <tr>\n",
       "      <th>2</th>\n",
       "      <td>5.0</td>\n",
       "      <td>5.0</td>\n",
       "      <td>5.0</td>\n",
       "      <td>3.0</td>\n",
       "    </tr>\n",
       "    <tr>\n",
       "      <th>3</th>\n",
       "      <td>4.0</td>\n",
       "      <td>4.0</td>\n",
       "      <td>3.0</td>\n",
       "      <td>1.0</td>\n",
       "    </tr>\n",
       "    <tr>\n",
       "      <th>4</th>\n",
       "      <td>2.0</td>\n",
       "      <td>2.0</td>\n",
       "      <td>1.0</td>\n",
       "      <td>2.0</td>\n",
       "    </tr>\n",
       "    <tr>\n",
       "      <th>5</th>\n",
       "      <td>3.0</td>\n",
       "      <td>5.0</td>\n",
       "      <td>5.0</td>\n",
       "      <td>4.0</td>\n",
       "    </tr>\n",
       "    <tr>\n",
       "      <th>6</th>\n",
       "      <td>3.0</td>\n",
       "      <td>1.0</td>\n",
       "      <td>1.0</td>\n",
       "      <td>1.0</td>\n",
       "    </tr>\n",
       "    <tr>\n",
       "      <th>7</th>\n",
       "      <td>1.0</td>\n",
       "      <td>3.0</td>\n",
       "      <td>4.0</td>\n",
       "      <td>5.0</td>\n",
       "    </tr>\n",
       "    <tr>\n",
       "      <th>8</th>\n",
       "      <td>5.0</td>\n",
       "      <td>2.0</td>\n",
       "      <td>2.0</td>\n",
       "      <td>3.0</td>\n",
       "    </tr>\n",
       "    <tr>\n",
       "      <th>9</th>\n",
       "      <td>2.0</td>\n",
       "      <td>5.0</td>\n",
       "      <td>3.0</td>\n",
       "      <td>2.0</td>\n",
       "    </tr>\n",
       "    <tr>\n",
       "      <th>10</th>\n",
       "      <td>2.0</td>\n",
       "      <td>5.0</td>\n",
       "      <td>5.0</td>\n",
       "      <td>4.0</td>\n",
       "    </tr>\n",
       "  </tbody>\n",
       "</table>\n",
       "</div>"
      ],
      "text/plain": [
       "title   dönüşüm  küçük prens  satranç  suç ve ceza\n",
       "userID                                            \n",
       "1           1.0          1.0      2.0          5.0\n",
       "2           5.0          5.0      5.0          3.0\n",
       "3           4.0          4.0      3.0          1.0\n",
       "4           2.0          2.0      1.0          2.0\n",
       "5           3.0          5.0      5.0          4.0\n",
       "6           3.0          1.0      1.0          1.0\n",
       "7           1.0          3.0      4.0          5.0\n",
       "8           5.0          2.0      2.0          3.0\n",
       "9           2.0          5.0      3.0          2.0\n",
       "10          2.0          5.0      5.0          4.0"
      ]
     },
     "execution_count": 18,
     "metadata": {},
     "output_type": "execute_result"
    }
   ],
   "source": [
    "user_rating"
   ]
  },
  {
   "cell_type": "code",
   "execution_count": 19,
   "metadata": {},
   "outputs": [],
   "source": [
    "item_similarity_df = user_rating.corr(method = 'pearson')"
   ]
  },
  {
   "cell_type": "code",
   "execution_count": 20,
   "metadata": {},
   "outputs": [
    {
     "data": {
      "text/html": [
       "<div>\n",
       "<style scoped>\n",
       "    .dataframe tbody tr th:only-of-type {\n",
       "        vertical-align: middle;\n",
       "    }\n",
       "\n",
       "    .dataframe tbody tr th {\n",
       "        vertical-align: top;\n",
       "    }\n",
       "\n",
       "    .dataframe thead th {\n",
       "        text-align: right;\n",
       "    }\n",
       "</style>\n",
       "<table border=\"1\" class=\"dataframe\">\n",
       "  <thead>\n",
       "    <tr style=\"text-align: right;\">\n",
       "      <th>title</th>\n",
       "      <th>dönüşüm</th>\n",
       "      <th>küçük prens</th>\n",
       "      <th>satranç</th>\n",
       "      <th>suç ve ceza</th>\n",
       "    </tr>\n",
       "    <tr>\n",
       "      <th>title</th>\n",
       "      <th></th>\n",
       "      <th></th>\n",
       "      <th></th>\n",
       "      <th></th>\n",
       "    </tr>\n",
       "  </thead>\n",
       "  <tbody>\n",
       "    <tr>\n",
       "      <th>dönüşüm</th>\n",
       "      <td>1.000000</td>\n",
       "      <td>0.203381</td>\n",
       "      <td>0.103843</td>\n",
       "      <td>-0.454569</td>\n",
       "    </tr>\n",
       "    <tr>\n",
       "      <th>küçük prens</th>\n",
       "      <td>0.203381</td>\n",
       "      <td>1.000000</td>\n",
       "      <td>0.846705</td>\n",
       "      <td>0.043769</td>\n",
       "    </tr>\n",
       "    <tr>\n",
       "      <th>satranç</th>\n",
       "      <td>0.103843</td>\n",
       "      <td>0.846705</td>\n",
       "      <td>1.000000</td>\n",
       "      <td>0.467269</td>\n",
       "    </tr>\n",
       "    <tr>\n",
       "      <th>suç ve ceza</th>\n",
       "      <td>-0.454569</td>\n",
       "      <td>0.043769</td>\n",
       "      <td>0.467269</td>\n",
       "      <td>1.000000</td>\n",
       "    </tr>\n",
       "  </tbody>\n",
       "</table>\n",
       "</div>"
      ],
      "text/plain": [
       "title         dönüşüm  küçük prens   satranç  suç ve ceza\n",
       "title                                                    \n",
       "dönüşüm      1.000000     0.203381  0.103843    -0.454569\n",
       "küçük prens  0.203381     1.000000  0.846705     0.043769\n",
       "satranç      0.103843     0.846705  1.000000     0.467269\n",
       "suç ve ceza -0.454569     0.043769  0.467269     1.000000"
      ]
     },
     "execution_count": 20,
     "metadata": {},
     "output_type": "execute_result"
    }
   ],
   "source": [
    "item_similarity_df.head(50)"
   ]
  },
  {
   "cell_type": "code",
   "execution_count": 21,
   "metadata": {},
   "outputs": [],
   "source": [
    "def get_similar_books(book_name, user_rating):\n",
    "    similar_score = item_similarity_df[book_name]*(user_rating-2.5)\n",
    "    similar_score = similar_score.sort_values(ascending = False)\n",
    "\n",
    "    return similar_score\n"
   ]
  },
  {
   "cell_type": "code",
   "execution_count": 22,
   "metadata": {},
   "outputs": [
    {
     "name": "stderr",
     "output_type": "stream",
     "text": [
      "C:\\Users\\FURKAN\\AppData\\Local\\Temp\\ipykernel_18080\\925192184.py:6: FutureWarning: The frame.append method is deprecated and will be removed from pandas in a future version. Use pandas.concat instead.\n",
      "  similar_books = similar_books.append(get_similar_books(book, rating), ignore_index = True)\n"
     ]
    }
   ],
   "source": [
    "action_lover = [(\"satranç\", 5), (\"küçük prens\", 4), (\"dönüşüm\", 1)]\n",
    "\n",
    "similar_books = pd.DataFrame()\n",
    "\n",
    "for book, rating in action_lover:\n",
    "    similar_books = similar_books.append(get_similar_books(book, rating), ignore_index = True)\n",
    "\n"
   ]
  },
  {
   "cell_type": "code",
   "execution_count": 23,
   "metadata": {},
   "outputs": [
    {
     "data": {
      "text/html": [
       "<div>\n",
       "<style scoped>\n",
       "    .dataframe tbody tr th:only-of-type {\n",
       "        vertical-align: middle;\n",
       "    }\n",
       "\n",
       "    .dataframe tbody tr th {\n",
       "        vertical-align: top;\n",
       "    }\n",
       "\n",
       "    .dataframe thead th {\n",
       "        text-align: right;\n",
       "    }\n",
       "</style>\n",
       "<table border=\"1\" class=\"dataframe\">\n",
       "  <thead>\n",
       "    <tr style=\"text-align: right;\">\n",
       "      <th>title</th>\n",
       "      <th>satranç</th>\n",
       "      <th>küçük prens</th>\n",
       "      <th>suç ve ceza</th>\n",
       "      <th>dönüşüm</th>\n",
       "    </tr>\n",
       "  </thead>\n",
       "  <tbody>\n",
       "    <tr>\n",
       "      <th>0</th>\n",
       "      <td>2.500000</td>\n",
       "      <td>2.116764</td>\n",
       "      <td>1.168173</td>\n",
       "      <td>0.259607</td>\n",
       "    </tr>\n",
       "    <tr>\n",
       "      <th>1</th>\n",
       "      <td>1.270058</td>\n",
       "      <td>1.500000</td>\n",
       "      <td>0.065653</td>\n",
       "      <td>0.305071</td>\n",
       "    </tr>\n",
       "    <tr>\n",
       "      <th>2</th>\n",
       "      <td>-0.155764</td>\n",
       "      <td>-0.305071</td>\n",
       "      <td>0.681853</td>\n",
       "      <td>-1.500000</td>\n",
       "    </tr>\n",
       "  </tbody>\n",
       "</table>\n",
       "</div>"
      ],
      "text/plain": [
       "title   satranç  küçük prens  suç ve ceza   dönüşüm\n",
       "0      2.500000     2.116764     1.168173  0.259607\n",
       "1      1.270058     1.500000     0.065653  0.305071\n",
       "2     -0.155764    -0.305071     0.681853 -1.500000"
      ]
     },
     "execution_count": 23,
     "metadata": {},
     "output_type": "execute_result"
    }
   ],
   "source": [
    "similar_books.head()"
   ]
  },
  {
   "cell_type": "code",
   "execution_count": 24,
   "metadata": {},
   "outputs": [
    {
     "data": {
      "text/plain": [
       "title\n",
       "satranç        3.614294\n",
       "küçük prens    3.311693\n",
       "suç ve ceza    1.915679\n",
       "dönüşüm       -0.935322\n",
       "dtype: float64"
      ]
     },
     "execution_count": 24,
     "metadata": {},
     "output_type": "execute_result"
    }
   ],
   "source": [
    "similar_books.sum().sort_values(ascending= False)"
   ]
  },
  {
   "cell_type": "code",
   "execution_count": null,
   "metadata": {},
   "outputs": [],
   "source": []
  }
 ],
 "metadata": {
  "kernelspec": {
   "display_name": "Python 3",
   "language": "python",
   "name": "python3"
  },
  "language_info": {
   "codemirror_mode": {
    "name": "ipython",
    "version": 3
   },
   "file_extension": ".py",
   "mimetype": "text/x-python",
   "name": "python",
   "nbconvert_exporter": "python",
   "pygments_lexer": "ipython3",
   "version": "3.9.13"
  },
  "orig_nbformat": 4,
  "vscode": {
   "interpreter": {
    "hash": "f4f2c219ce6596af0712928ccb33bc6492cd6f4576a5fe8f049c417421a49d18"
   }
  }
 },
 "nbformat": 4,
 "nbformat_minor": 2
}
